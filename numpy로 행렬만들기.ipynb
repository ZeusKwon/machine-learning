{
  "nbformat": 4,
  "nbformat_minor": 0,
  "metadata": {
    "kernelspec": {
      "display_name": "Python 3",
      "language": "python",
      "name": "python3"
    },
    "language_info": {
      "codemirror_mode": {
        "name": "ipython",
        "version": 3
      },
      "file_extension": ".py",
      "mimetype": "text/x-python",
      "name": "python",
      "nbconvert_exporter": "python",
      "pygments_lexer": "ipython3",
      "version": "3.8.5"
    },
    "colab": {
      "name": "numpy로 행렬만들기.ipynb",
      "provenance": []
    }
  },
  "cells": [
    {
      "cell_type": "markdown",
      "metadata": {
        "id": "FMNeyQDRquIj"
      },
      "source": [
        "hi"
      ]
    },
    {
      "cell_type": "code",
      "metadata": {
        "id": "_hBg8dyaqtUo"
      },
      "source": [
        "import numpy as np"
      ],
      "execution_count": null,
      "outputs": []
    },
    {
      "cell_type": "markdown",
      "metadata": {
        "id": "AOK_dh-DqtUr"
      },
      "source": [
        "- 일반적으로 행렬만들기"
      ]
    },
    {
      "cell_type": "code",
      "metadata": {
        "id": "pZoigKKRqtUs",
        "outputId": "55bb585e-7a54-466f-f2ca-27425e32d986"
      },
      "source": [
        "A = np.array([\n",
        "    [1, -1, 2],\n",
        "    [3, 2, 2],\n",
        "    [4, 1, 2],\n",
        "    [7, 5, 6]\n",
        "])\n",
        "\n",
        "A"
      ],
      "execution_count": null,
      "outputs": [
        {
          "output_type": "execute_result",
          "data": {
            "text/plain": [
              "array([[ 1, -1,  2],\n",
              "       [ 3,  2,  2],\n",
              "       [ 4,  1,  2],\n",
              "       [ 7,  5,  6]])"
            ]
          },
          "metadata": {
            "tags": []
          },
          "execution_count": 2
        }
      ]
    },
    {
      "cell_type": "code",
      "metadata": {
        "id": "mBP1BuWyqtUt",
        "outputId": "28af2d21-94f1-40e5-f99d-3872c061f9dc"
      },
      "source": [
        "B = np.array([\n",
        "    [0,1],\n",
        "    [-1,3],\n",
        "    [5,2],\n",
        "])\n",
        "B"
      ],
      "execution_count": null,
      "outputs": [
        {
          "output_type": "execute_result",
          "data": {
            "text/plain": [
              "array([[ 0,  1],\n",
              "       [-1,  3],\n",
              "       [ 5,  2]])"
            ]
          },
          "metadata": {
            "tags": []
          },
          "execution_count": 3
        }
      ]
    },
    {
      "cell_type": "markdown",
      "metadata": {
        "id": "WVyvpsSfqtUu"
      },
      "source": [
        "- 0~1까지의 랜덤값을 행렬로 만들기"
      ]
    },
    {
      "cell_type": "code",
      "metadata": {
        "id": "u8clUzPIqtUu",
        "outputId": "fc184dbb-bb67-4885-aa19-099800ccd5d5"
      },
      "source": [
        "C = np.random.rand(3,5)\n",
        "C"
      ],
      "execution_count": null,
      "outputs": [
        {
          "output_type": "execute_result",
          "data": {
            "text/plain": [
              "array([[0.40116611, 0.57527664, 0.08724481, 0.00898549, 0.81787067],\n",
              "       [0.83453563, 0.35000327, 0.45055228, 0.88228106, 0.76878535],\n",
              "       [0.96696544, 0.14913515, 0.92404037, 0.50558982, 0.51675622]])"
            ]
          },
          "metadata": {
            "tags": []
          },
          "execution_count": 4
        }
      ]
    },
    {
      "cell_type": "markdown",
      "metadata": {
        "id": "psc_sMndqtUu"
      },
      "source": [
        "- 0을 행렬로 만들기"
      ]
    },
    {
      "cell_type": "code",
      "metadata": {
        "id": "1ObYTK-0qtUv",
        "outputId": "01a8ee7b-895a-42c0-f513-420236559c80"
      },
      "source": [
        "D = np.zeros((2,4))\n",
        "D"
      ],
      "execution_count": null,
      "outputs": [
        {
          "output_type": "execute_result",
          "data": {
            "text/plain": [
              "array([[0., 0., 0., 0.],\n",
              "       [0., 0., 0., 0.]])"
            ]
          },
          "metadata": {
            "tags": []
          },
          "execution_count": 5
        }
      ]
    },
    {
      "cell_type": "markdown",
      "metadata": {
        "id": "fPwsqe6pqtUv"
      },
      "source": [
        "- 행렬의 원소를 가져올때(2행, 3열)"
      ]
    },
    {
      "cell_type": "code",
      "metadata": {
        "id": "OxgceynKqtUw",
        "outputId": "17f1f3d9-9be7-477d-a5bf-5bcbe43468d7"
      },
      "source": [
        "A"
      ],
      "execution_count": null,
      "outputs": [
        {
          "output_type": "execute_result",
          "data": {
            "text/plain": [
              "array([[ 1, -1,  2],\n",
              "       [ 3,  2,  2],\n",
              "       [ 4,  1,  2],\n",
              "       [ 7,  5,  6]])"
            ]
          },
          "metadata": {
            "tags": []
          },
          "execution_count": 9
        }
      ]
    },
    {
      "cell_type": "code",
      "metadata": {
        "scrolled": true,
        "id": "OKeUJjOkqtUw",
        "outputId": "b9ed6647-30a9-4011-fec2-da03c5eafe7b"
      },
      "source": [
        "A[0][2]"
      ],
      "execution_count": null,
      "outputs": [
        {
          "output_type": "execute_result",
          "data": {
            "text/plain": [
              "2"
            ]
          },
          "metadata": {
            "tags": []
          },
          "execution_count": 11
        }
      ]
    },
    {
      "cell_type": "code",
      "metadata": {
        "id": "hHbN6EHgqtUx",
        "outputId": "b2a6e041-b9b5-410a-a5ad-51b9464758ab"
      },
      "source": [
        "2*A"
      ],
      "execution_count": null,
      "outputs": [
        {
          "output_type": "execute_result",
          "data": {
            "text/plain": [
              "array([[ 0,  2, -2],\n",
              "       [ 2,  4,  6],\n",
              "       [ 4,  2,  0],\n",
              "       [-2,  4, -8]])"
            ]
          },
          "metadata": {
            "tags": []
          },
          "execution_count": 15
        }
      ]
    },
    {
      "cell_type": "markdown",
      "metadata": {
        "id": "nq06NVUKqtUx"
      },
      "source": [
        "## 실습과제 _ numpy행렬연습\n",
        "\n",
        "$$\\left[\\begin{array}{rrr} \n",
        "0&1&-1\\\\\n",
        "1&2&3\\\\\n",
        "2&1&0\\\\\n",
        "-1&2&-4\n",
        "\\end{array}\\right]$$\n",
        "를 \"A\"로 정의\n",
        "\n",
        "$$\\left[\\begin{array}{rrr} \n",
        "0&2\\\\\n",
        "1&1\\\\\n",
        "-1&-2\n",
        "\\end{array}\\right]$$\n",
        "를 \"B\"로 정의해보세요\n",
        "\n",
        "- 정의한 행렬 ﻿AA﻿ 의 2 행 2 열 원소에 접근해보세요.\n",
        "- 정의한 행렬 ﻿AA﻿ 의 4 행 1열 원소에 접근해보세요."
      ]
    },
    {
      "cell_type": "code",
      "metadata": {
        "scrolled": true,
        "id": "TGho9YzvqtUx",
        "outputId": "f97f6412-304a-4447-cff4-44e50eb1a174"
      },
      "source": [
        "import numpy as np\n",
        "\n",
        "# 1: 행렬 A를 정의해보세요\n",
        "A = np.array([\n",
        "    [0,1,-1],\n",
        "    [1,2,3],\n",
        "    [2,1,0],\n",
        "    [-1,2,-4]\n",
        "    ])\n",
        "\n",
        "# 2: 행렬 B를 정의해보세요\n",
        "B = np.array([\n",
        "    [0,2],\n",
        "    [1,1],\n",
        "    [-1,-2]\n",
        "    ])\n",
        "\n",
        "print(A)\n",
        "print(B)\n",
        "print(A[1][1])  # 3: 여기서 A의 2행 2열 원소에 접근해보세요\n",
        "print(A[3][0])  # 4: 여기서 A의 4행 1열 원소에 접근해보세요"
      ],
      "execution_count": null,
      "outputs": [
        {
          "output_type": "stream",
          "text": [
            "[[ 0  1 -1]\n",
            " [ 1  2  3]\n",
            " [ 2  1  0]\n",
            " [-1  2 -4]]\n",
            "[[ 0  2]\n",
            " [ 1  1]\n",
            " [-1 -2]]\n",
            "2\n",
            "-1\n"
          ],
          "name": "stdout"
        }
      ]
    },
    {
      "cell_type": "code",
      "metadata": {
        "id": "SoanFHdwqtUy",
        "outputId": "843725ee-2906-4071-ef56-ea963e062087"
      },
      "source": [
        "\n",
        "import numpy as np\n",
        "\n",
        "A = np.array([\n",
        "    [1, -1, 2],\n",
        "    [3, 2, 2]\n",
        "])\n",
        "\n",
        "B = np.array([\n",
        "    [0, 1],\n",
        "    [-1, 1],\n",
        "    [5, 2]\n",
        "])\n",
        "\n",
        "C = np.array([\n",
        "    [2, -1],\n",
        "    [-3, 3]\n",
        "])\n",
        "\n",
        "D = np.array([\n",
        "    [-5, 1],\n",
        "    [2, 0]\n",
        "])\n",
        "\n",
        "# 행렬 연산 결과를 result에 저장하세요\n",
        "result = (2*A)@(-1*B)*((3*C)+D)\n",
        "result"
      ],
      "execution_count": null,
      "outputs": [
        {
          "output_type": "execute_result",
          "data": {
            "text/plain": [
              "array([[ -22,   16],\n",
              "       [ 112, -162]])"
            ]
          },
          "metadata": {
            "tags": []
          },
          "execution_count": 18
        }
      ]
    }
  ]
}