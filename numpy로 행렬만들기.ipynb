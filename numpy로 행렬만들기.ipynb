{
 "cells": [
  {
   "cell_type": "code",
   "execution_count": 1,
   "metadata": {},
   "outputs": [],
   "source": [
    "import numpy as np"
   ]
  },
  {
   "cell_type": "markdown",
   "metadata": {},
   "source": [
    "- 일반적으로 행렬만들기"
   ]
  },
  {
   "cell_type": "code",
   "execution_count": 2,
   "metadata": {},
   "outputs": [
    {
     "data": {
      "text/plain": [
       "array([[ 1, -1,  2],\n",
       "       [ 3,  2,  2],\n",
       "       [ 4,  1,  2],\n",
       "       [ 7,  5,  6]])"
      ]
     },
     "execution_count": 2,
     "metadata": {},
     "output_type": "execute_result"
    }
   ],
   "source": [
    "A = np.array([\n",
    "    [1, -1, 2],\n",
    "    [3, 2, 2],\n",
    "    [4, 1, 2],\n",
    "    [7, 5, 6]\n",
    "])\n",
    "\n",
    "A"
   ]
  },
  {
   "cell_type": "code",
   "execution_count": 3,
   "metadata": {},
   "outputs": [
    {
     "data": {
      "text/plain": [
       "array([[ 0,  1],\n",
       "       [-1,  3],\n",
       "       [ 5,  2]])"
      ]
     },
     "execution_count": 3,
     "metadata": {},
     "output_type": "execute_result"
    }
   ],
   "source": [
    "B = np.array([\n",
    "    [0,1],\n",
    "    [-1,3],\n",
    "    [5,2],\n",
    "])\n",
    "B"
   ]
  },
  {
   "cell_type": "markdown",
   "metadata": {},
   "source": [
    "- 0~1까지의 랜덤값을 행렬로 만들기"
   ]
  },
  {
   "cell_type": "code",
   "execution_count": 4,
   "metadata": {},
   "outputs": [
    {
     "data": {
      "text/plain": [
       "array([[0.40116611, 0.57527664, 0.08724481, 0.00898549, 0.81787067],\n",
       "       [0.83453563, 0.35000327, 0.45055228, 0.88228106, 0.76878535],\n",
       "       [0.96696544, 0.14913515, 0.92404037, 0.50558982, 0.51675622]])"
      ]
     },
     "execution_count": 4,
     "metadata": {},
     "output_type": "execute_result"
    }
   ],
   "source": [
    "C = np.random.rand(3,5)\n",
    "C"
   ]
  },
  {
   "cell_type": "markdown",
   "metadata": {},
   "source": [
    "- 0을 행렬로 만들기"
   ]
  },
  {
   "cell_type": "code",
   "execution_count": 5,
   "metadata": {},
   "outputs": [
    {
     "data": {
      "text/plain": [
       "array([[0., 0., 0., 0.],\n",
       "       [0., 0., 0., 0.]])"
      ]
     },
     "execution_count": 5,
     "metadata": {},
     "output_type": "execute_result"
    }
   ],
   "source": [
    "D = np.zeros((2,4))\n",
    "D"
   ]
  },
  {
   "cell_type": "markdown",
   "metadata": {},
   "source": [
    "- 행렬의 원소를 가져올때(2행, 3열)"
   ]
  },
  {
   "cell_type": "code",
   "execution_count": 9,
   "metadata": {},
   "outputs": [
    {
     "data": {
      "text/plain": [
       "array([[ 1, -1,  2],\n",
       "       [ 3,  2,  2],\n",
       "       [ 4,  1,  2],\n",
       "       [ 7,  5,  6]])"
      ]
     },
     "execution_count": 9,
     "metadata": {},
     "output_type": "execute_result"
    }
   ],
   "source": [
    "A"
   ]
  },
  {
   "cell_type": "code",
   "execution_count": 11,
   "metadata": {
    "scrolled": true
   },
   "outputs": [
    {
     "data": {
      "text/plain": [
       "2"
      ]
     },
     "execution_count": 11,
     "metadata": {},
     "output_type": "execute_result"
    }
   ],
   "source": [
    "A[0][2]"
   ]
  },
  {
   "cell_type": "code",
   "execution_count": 15,
   "metadata": {},
   "outputs": [
    {
     "data": {
      "text/plain": [
       "array([[ 0,  2, -2],\n",
       "       [ 2,  4,  6],\n",
       "       [ 4,  2,  0],\n",
       "       [-2,  4, -8]])"
      ]
     },
     "execution_count": 15,
     "metadata": {},
     "output_type": "execute_result"
    }
   ],
   "source": [
    "2*A"
   ]
  },
  {
   "cell_type": "markdown",
   "metadata": {},
   "source": [
    "## 실습과제 _ numpy행렬연습\n",
    "\n",
    "$$\\left[\\begin{array}{rrr} \n",
    "0&1&-1\\\\\n",
    "1&2&3\\\\\n",
    "2&1&0\\\\\n",
    "-1&2&-4\n",
    "\\end{array}\\right]$$\n",
    "를 \"A\"로 정의\n",
    "\n",
    "$$\\left[\\begin{array}{rrr} \n",
    "0&2\\\\\n",
    "1&1\\\\\n",
    "-1&-2\n",
    "\\end{array}\\right]$$\n",
    "를 \"B\"로 정의해보세요\n",
    "\n",
    "- 정의한 행렬 ﻿AA﻿ 의 2 행 2 열 원소에 접근해보세요.\n",
    "- 정의한 행렬 ﻿AA﻿ 의 4 행 1열 원소에 접근해보세요."
   ]
  },
  {
   "cell_type": "code",
   "execution_count": 12,
   "metadata": {
    "scrolled": true
   },
   "outputs": [
    {
     "name": "stdout",
     "output_type": "stream",
     "text": [
      "[[ 0  1 -1]\n",
      " [ 1  2  3]\n",
      " [ 2  1  0]\n",
      " [-1  2 -4]]\n",
      "[[ 0  2]\n",
      " [ 1  1]\n",
      " [-1 -2]]\n",
      "2\n",
      "-1\n"
     ]
    }
   ],
   "source": [
    "import numpy as np\n",
    "\n",
    "# 1: 행렬 A를 정의해보세요\n",
    "A = np.array([\n",
    "    [0,1,-1],\n",
    "    [1,2,3],\n",
    "    [2,1,0],\n",
    "    [-1,2,-4]\n",
    "    ])\n",
    "\n",
    "# 2: 행렬 B를 정의해보세요\n",
    "B = np.array([\n",
    "    [0,2],\n",
    "    [1,1],\n",
    "    [-1,-2]\n",
    "    ])\n",
    "\n",
    "print(A)\n",
    "print(B)\n",
    "print(A[1][1])  # 3: 여기서 A의 2행 2열 원소에 접근해보세요\n",
    "print(A[3][0])  # 4: 여기서 A의 4행 1열 원소에 접근해보세요"
   ]
  },
  {
   "cell_type": "code",
   "execution_count": 18,
   "metadata": {},
   "outputs": [
    {
     "data": {
      "text/plain": [
       "array([[ -22,   16],\n",
       "       [ 112, -162]])"
      ]
     },
     "execution_count": 18,
     "metadata": {},
     "output_type": "execute_result"
    }
   ],
   "source": [
    "\n",
    "import numpy as np\n",
    "\n",
    "A = np.array([\n",
    "    [1, -1, 2],\n",
    "    [3, 2, 2]\n",
    "])\n",
    "\n",
    "B = np.array([\n",
    "    [0, 1],\n",
    "    [-1, 1],\n",
    "    [5, 2]\n",
    "])\n",
    "\n",
    "C = np.array([\n",
    "    [2, -1],\n",
    "    [-3, 3]\n",
    "])\n",
    "\n",
    "D = np.array([\n",
    "    [-5, 1],\n",
    "    [2, 0]\n",
    "])\n",
    "\n",
    "# 행렬 연산 결과를 result에 저장하세요\n",
    "result = (2*A)@(-1*B)*((3*C)+D)\n",
    "result"
   ]
  }
 ],
 "metadata": {
  "kernelspec": {
   "display_name": "Python 3",
   "language": "python",
   "name": "python3"
  },
  "language_info": {
   "codemirror_mode": {
    "name": "ipython",
    "version": 3
   },
   "file_extension": ".py",
   "mimetype": "text/x-python",
   "name": "python",
   "nbconvert_exporter": "python",
   "pygments_lexer": "ipython3",
   "version": "3.8.5"
  }
 },
 "nbformat": 4,
 "nbformat_minor": 4
}
