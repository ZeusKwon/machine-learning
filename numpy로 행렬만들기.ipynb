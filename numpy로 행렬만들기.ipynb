{
  "nbformat": 4,
  "nbformat_minor": 0,
  "metadata": {
    "kernelspec": {
      "display_name": "Python 3",
      "language": "python",
      "name": "python3"
    },
    "language_info": {
      "codemirror_mode": {
        "name": "ipython",
        "version": 3
      },
      "file_extension": ".py",
      "mimetype": "text/x-python",
      "name": "python",
      "nbconvert_exporter": "python",
      "pygments_lexer": "ipython3",
      "version": "3.8.5"
    },
    "colab": {
      "name": "numpy로 행렬만들기.ipynb",
      "provenance": []
    }
  },
  "cells": [
    {
      "cell_type": "code",
      "metadata": {
        "id": "rNNzJOMWovi8",
        "outputId": "b8dfe5d8-a893-4590-b943-9cac462eb4fd",
        "colab": {
          "base_uri": "https://localhost:8080/"
        }
      },
      "source": [
        "print('Lou revised')"
      ],
      "execution_count": 12,
      "outputs": [
        {
          "output_type": "stream",
          "text": [
            "hi\n"
          ],
          "name": "stdout"
        }
      ]
    },
    {
      "cell_type": "code",
      "metadata": {
        "id": "_eGTNN9_olU4"
      },
      "source": [
        "import numpy as np"
      ],
      "execution_count": 11,
      "outputs": []
    },
    {
      "cell_type": "markdown",
      "metadata": {
        "id": "RHIUuiKDotTF"
      },
      "source": [
        ""
      ]
    },
    {
      "cell_type": "code",
      "metadata": {
        "id": "He-SVvc2ouYM"
      },
      "source": [
        ""
      ],
      "execution_count": null,
      "outputs": []
    },
    {
      "cell_type": "markdown",
      "metadata": {
        "id": "_z-QLWJgolU6"
      },
      "source": [
        "- 일반적으로 행렬만들기"
      ]
    },
    {
      "cell_type": "code",
      "metadata": {
        "id": "N_dxINrvolU7",
        "outputId": "00081a1e-a4b2-47ad-b467-540b33356325",
        "colab": {
          "base_uri": "https://localhost:8080/"
        }
      },
      "source": [
        "A = np.array([\n",
        "    [1, -1, 2],\n",
        "    [3, 2, 2],\n",
        "    [4, 1, 2],\n",
        "    [7, 5, 6]\n",
        "])\n",
        "\n",
        "A"
      ],
      "execution_count": 2,
      "outputs": [
        {
          "output_type": "execute_result",
          "data": {
            "text/plain": [
              "array([[ 1, -1,  2],\n",
              "       [ 3,  2,  2],\n",
              "       [ 4,  1,  2],\n",
              "       [ 7,  5,  6]])"
            ]
          },
          "metadata": {
            "tags": []
          },
          "execution_count": 2
        }
      ]
    },
    {
      "cell_type": "code",
      "metadata": {
        "id": "QpxEBd66olU7",
        "outputId": "09b6933a-5a5d-4342-8e20-6ba9ef00428c",
        "colab": {
          "base_uri": "https://localhost:8080/"
        }
      },
      "source": [
        "B = np.array([\n",
        "    [0,1],\n",
        "    [-1,3],\n",
        "    [5,2],\n",
        "])\n",
        "B"
      ],
      "execution_count": 3,
      "outputs": [
        {
          "output_type": "execute_result",
          "data": {
            "text/plain": [
              "array([[ 0,  1],\n",
              "       [-1,  3],\n",
              "       [ 5,  2]])"
            ]
          },
          "metadata": {
            "tags": []
          },
          "execution_count": 3
        }
      ]
    },
    {
      "cell_type": "markdown",
      "metadata": {
        "id": "SXKMG9qlolU8"
      },
      "source": [
        "- 0~1까지의 랜덤값을 행렬로 만들기"
      ]
    },
    {
      "cell_type": "code",
      "metadata": {
        "id": "gAtOFlVPolU8",
        "outputId": "8542df2f-cad9-4562-9482-fc6caafc3081",
        "colab": {
          "base_uri": "https://localhost:8080/"
        }
      },
      "source": [
        "C = np.random.rand(3,5)\n",
        "C"
      ],
      "execution_count": 4,
      "outputs": [
        {
          "output_type": "execute_result",
          "data": {
            "text/plain": [
              "array([[0.46316454, 0.78220418, 0.69091239, 0.15664587, 0.80701587],\n",
              "       [0.83720161, 0.65351167, 0.16287523, 0.69809686, 0.16369816],\n",
              "       [0.3755402 , 0.11617013, 0.32614265, 0.78564295, 0.98972189]])"
            ]
          },
          "metadata": {
            "tags": []
          },
          "execution_count": 4
        }
      ]
    },
    {
      "cell_type": "markdown",
      "metadata": {
        "id": "TMYAKnmwolU8"
      },
      "source": [
        "- 0을 행렬로 만들기"
      ]
    },
    {
      "cell_type": "code",
      "metadata": {
        "id": "bCd602KWolU9",
        "outputId": "2a023ebe-23f8-41c1-e4ac-425f6e82199f",
        "colab": {
          "base_uri": "https://localhost:8080/"
        }
      },
      "source": [
        "D = np.zeros((2,4))\n",
        "D"
      ],
      "execution_count": 5,
      "outputs": [
        {
          "output_type": "execute_result",
          "data": {
            "text/plain": [
              "array([[0., 0., 0., 0.],\n",
              "       [0., 0., 0., 0.]])"
            ]
          },
          "metadata": {
            "tags": []
          },
          "execution_count": 5
        }
      ]
    },
    {
      "cell_type": "markdown",
      "metadata": {
        "id": "n6XN--SJolU9"
      },
      "source": [
        "- 행렬의 원소를 가져올때(2행, 3열)"
      ]
    },
    {
      "cell_type": "code",
      "metadata": {
        "id": "ZAl74vDGolU9",
        "outputId": "b11d2c93-5953-4995-caa3-d35be6f7aa52",
        "colab": {
          "base_uri": "https://localhost:8080/"
        }
      },
      "source": [
        "A"
      ],
      "execution_count": 6,
      "outputs": [
        {
          "output_type": "execute_result",
          "data": {
            "text/plain": [
              "array([[ 1, -1,  2],\n",
              "       [ 3,  2,  2],\n",
              "       [ 4,  1,  2],\n",
              "       [ 7,  5,  6]])"
            ]
          },
          "metadata": {
            "tags": []
          },
          "execution_count": 6
        }
      ]
    },
    {
      "cell_type": "code",
      "metadata": {
        "scrolled": true,
        "id": "JYZf4s2holU-",
        "outputId": "42def29c-0142-4f2e-e89f-78dd2ecb779e",
        "colab": {
          "base_uri": "https://localhost:8080/"
        }
      },
      "source": [
        "A[0][2]"
      ],
      "execution_count": 7,
      "outputs": [
        {
          "output_type": "execute_result",
          "data": {
            "text/plain": [
              "2"
            ]
          },
          "metadata": {
            "tags": []
          },
          "execution_count": 7
        }
      ]
    },
    {
      "cell_type": "code",
      "metadata": {
        "id": "Gtf0JM0jolU-",
        "outputId": "45daef41-9276-426b-f546-69fade838424",
        "colab": {
          "base_uri": "https://localhost:8080/"
        }
      },
      "source": [
        "2*A"
      ],
      "execution_count": 8,
      "outputs": [
        {
          "output_type": "execute_result",
          "data": {
            "text/plain": [
              "array([[ 2, -2,  4],\n",
              "       [ 6,  4,  4],\n",
              "       [ 8,  2,  4],\n",
              "       [14, 10, 12]])"
            ]
          },
          "metadata": {
            "tags": []
          },
          "execution_count": 8
        }
      ]
    },
    {
      "cell_type": "markdown",
      "metadata": {
        "id": "5suoDbtyolU-"
      },
      "source": [
        "## 실습과제 _ numpy행렬연습\n",
        "\n",
        "$$\\left[\\begin{array}{rrr} \n",
        "0&1&-1\\\\\n",
        "1&2&3\\\\\n",
        "2&1&0\\\\\n",
        "-1&2&-4\n",
        "\\end{array}\\right]$$\n",
        "를 \"A\"로 정의\n",
        "\n",
        "$$\\left[\\begin{array}{rrr} \n",
        "0&2\\\\\n",
        "1&1\\\\\n",
        "-1&-2\n",
        "\\end{array}\\right]$$\n",
        "를 \"B\"로 정의해보세요\n",
        "\n",
        "- 정의한 행렬 ﻿AA﻿ 의 2 행 2 열 원소에 접근해보세요.\n",
        "- 정의한 행렬 ﻿AA﻿ 의 4 행 1열 원소에 접근해보세요."
      ]
    },
    {
      "cell_type": "code",
      "metadata": {
        "scrolled": true,
        "id": "Y9Ik7ynrolU_",
        "outputId": "4fb119bc-a358-46d1-996b-4fd5de20f4a7",
        "colab": {
          "base_uri": "https://localhost:8080/"
        }
      },
      "source": [
        "import numpy as np\n",
        "\n",
        "# 1: 행렬 A를 정의해보세요\n",
        "A = np.array([\n",
        "    [0,1,-1],\n",
        "    [1,2,3],\n",
        "    [2,1,0],\n",
        "    [-1,2,-4]\n",
        "    ])\n",
        "\n",
        "# 2: 행렬 B를 정의해보세요\n",
        "B = np.array([\n",
        "    [0,2],\n",
        "    [1,1],\n",
        "    [-1,-2]\n",
        "    ])\n",
        "\n",
        "print(A)\n",
        "print(B)\n",
        "print(A[1][1])  # 3: 여기서 A의 2행 2열 원소에 접근해보세요\n",
        "print(A[3][0])  # 4: 여기서 A의 4행 1열 원소에 접근해보세요"
      ],
      "execution_count": 9,
      "outputs": [
        {
          "output_type": "stream",
          "text": [
            "[[ 0  1 -1]\n",
            " [ 1  2  3]\n",
            " [ 2  1  0]\n",
            " [-1  2 -4]]\n",
            "[[ 0  2]\n",
            " [ 1  1]\n",
            " [-1 -2]]\n",
            "2\n",
            "-1\n"
          ],
          "name": "stdout"
        }
      ]
    },
    {
      "cell_type": "code",
      "metadata": {
        "id": "-CSgE_rEolU_",
        "outputId": "4110e903-f8f1-443d-e56d-fc169a2735ef",
        "colab": {
          "base_uri": "https://localhost:8080/"
        }
      },
      "source": [
        "\n",
        "import numpy as np\n",
        "\n",
        "A = np.array([\n",
        "    [1, -1, 2],\n",
        "    [3, 2, 2]\n",
        "])\n",
        "\n",
        "B = np.array([\n",
        "    [0, 1],\n",
        "    [-1, 1],\n",
        "    [5, 2]\n",
        "])\n",
        "\n",
        "C = np.array([\n",
        "    [2, -1],\n",
        "    [-3, 3]\n",
        "])\n",
        "\n",
        "D = np.array([\n",
        "    [-5, 1],\n",
        "    [2, 0]\n",
        "])\n",
        "\n",
        "# 행렬 연산 결과를 result에 저장하세요\n",
        "result = (2*A)@(-1*B)*((3*C)+D)\n",
        "result"
      ],
      "execution_count": 10,
      "outputs": [
        {
          "output_type": "execute_result",
          "data": {
            "text/plain": [
              "array([[ -22,   16],\n",
              "       [ 112, -162]])"
            ]
          },
          "metadata": {
            "tags": []
          },
          "execution_count": 10
        }
      ]
    }
  ]
}